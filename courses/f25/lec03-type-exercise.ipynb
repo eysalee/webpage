{
 "cells": [
  {
   "cell_type": "markdown",
   "id": "703a055e-51ad-47aa-a92a-28b6d17b4d1e",
   "metadata": {
    "tags": []
   },
   "source": [
    "# Lecture 3: Type Exercise"
   ]
  },
  {
   "cell_type": "markdown",
   "id": "77d0c4bb-9ddd-48d9-858d-843927385495",
   "metadata": {},
   "source": [
    "Use the spaces below to follow along in the lecture and test things out!"
   ]
  },
  {
   "cell_type": "code",
   "execution_count": null,
   "id": "336cd0fc-4f05-4811-b21c-b083aba82b9f",
   "metadata": {
    "tags": []
   },
   "outputs": [],
   "source": [
    "# Numbers\n"
   ]
  },
  {
   "cell_type": "code",
   "execution_count": null,
   "id": "aa2e645a-ef8e-4180-9d53-e3c6acfa895b",
   "metadata": {},
   "outputs": [],
   "source": [
    "# Variables\n"
   ]
  },
  {
   "cell_type": "code",
   "execution_count": null,
   "id": "9e5034ed-2763-4077-9acc-fb2c7a609e54",
   "metadata": {},
   "outputs": [],
   "source": [
    "# Functions\n"
   ]
  },
  {
   "cell_type": "code",
   "execution_count": null,
   "id": "774af679-b03b-4794-ac07-bec6a42c2c11",
   "metadata": {},
   "outputs": [],
   "source": [
    "# Strings\n"
   ]
  },
  {
   "cell_type": "code",
   "execution_count": null,
   "id": "118e2063-b52f-4a46-9805-40aa79a9e7ad",
   "metadata": {},
   "outputs": [],
   "source": [
    "# Booleans\n"
   ]
  },
  {
   "cell_type": "code",
   "execution_count": null,
   "id": "d8323287-9b64-460b-a876-d664da26da9c",
   "metadata": {},
   "outputs": [],
   "source": [
    "# Arrays\n"
   ]
  },
  {
   "cell_type": "markdown",
   "id": "33d8be73-ac0c-470a-9e51-50775efa950a",
   "metadata": {},
   "source": [
    "This section is for the example exercises.\n",
    "For each example below, \n",
    "- what would the source of the error? \n",
    "- how would you fix it?"
   ]
  },
  {
   "cell_type": "code",
   "execution_count": null,
   "id": "cf37e5da-17a6-4ee4-b3ff-843396a5192e",
   "metadata": {},
   "outputs": [],
   "source": [
    "# Define your variables here"
   ]
  },
  {
   "cell_type": "code",
   "execution_count": null,
   "id": "d525d714-745c-4c66-8310-a6ac949fd30b",
   "metadata": {},
   "outputs": [],
   "source": []
  },
  {
   "cell_type": "code",
   "execution_count": null,
   "id": "a1b18fd2-9d71-4b65-9a51-66597f7da3a0",
   "metadata": {},
   "outputs": [],
   "source": [
    "# Enter the expressions for each example and test how you'd fix it`"
   ]
  },
  {
   "cell_type": "code",
   "execution_count": null,
   "id": "7c1a7ef6-bec8-4b02-b731-51b849242331",
   "metadata": {},
   "outputs": [],
   "source": [
    "# 1\n",
    "..."
   ]
  },
  {
   "cell_type": "code",
   "execution_count": null,
   "id": "fd89f16b-4a17-471b-aed1-3b523b5518d6",
   "metadata": {},
   "outputs": [],
   "source": [
    "# 2\n",
    "..."
   ]
  },
  {
   "cell_type": "code",
   "execution_count": null,
   "id": "fc8c847d-a165-4792-aef5-560019dab399",
   "metadata": {},
   "outputs": [],
   "source": [
    "# 3\n",
    "..."
   ]
  },
  {
   "cell_type": "code",
   "execution_count": null,
   "id": "b09b273b-4ac3-4bf8-84b3-319158f5f2da",
   "metadata": {},
   "outputs": [],
   "source": [
    "# 4\n",
    "..."
   ]
  }
 ],
 "metadata": {
  "kernelspec": {
   "display_name": "Python 3 (ipykernel)",
   "language": "python",
   "name": "python3"
  },
  "language_info": {
   "codemirror_mode": {
    "name": "ipython",
    "version": 3
   },
   "file_extension": ".py",
   "mimetype": "text/x-python",
   "name": "python",
   "nbconvert_exporter": "python",
   "pygments_lexer": "ipython3",
   "version": "3.12.10"
  }
 },
 "nbformat": 4,
 "nbformat_minor": 5
}
