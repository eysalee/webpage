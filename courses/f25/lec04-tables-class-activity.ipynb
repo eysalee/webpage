{
 "cells": [
  {
   "cell_type": "markdown",
   "id": "1a3fad2d-1060-4b2f-8038-37f35b354053",
   "metadata": {},
   "source": [
    "# Lecture 4: Arrays and Tables"
   ]
  },
  {
   "cell_type": "code",
   "execution_count": null,
   "id": "4041e299-50ae-427c-a12c-949775754d25",
   "metadata": {
    "tags": []
   },
   "outputs": [],
   "source": [
    "from datascience import *\n",
    "import numpy as np"
   ]
  },
  {
   "cell_type": "code",
   "execution_count": null,
   "id": "9cfedaf0-ddb2-471a-bc22-7727451e7e7f",
   "metadata": {
    "tags": []
   },
   "outputs": [],
   "source": [
    "# data = skyscrapers in the United States build before 2016\n",
    "skyscrapers = Table.read_table('skyscrapers.csv')\n",
    "skyscrapers"
   ]
  },
  {
   "cell_type": "code",
   "execution_count": null,
   "id": "18255095-ed54-4545-a22e-63b476525588",
   "metadata": {
    "tags": []
   },
   "outputs": [],
   "source": [
    "skyscrapers.num_rows"
   ]
  },
  {
   "cell_type": "code",
   "execution_count": null,
   "id": "1a81aa21-faf6-40b8-a2af-c4d7e168ff9a",
   "metadata": {
    "tags": []
   },
   "outputs": [],
   "source": [
    "# select returns a table with a given column\n",
    "skyscrapers.select('name')"
   ]
  },
  {
   "cell_type": "code",
   "execution_count": null,
   "id": "cf3a3fef-47ff-498e-b47d-20b42efc2925",
   "metadata": {},
   "outputs": [],
   "source": [
    "# column returns an array\n",
    "skyscrapers.column('name')"
   ]
  },
  {
   "cell_type": "code",
   "execution_count": null,
   "id": "b4e7db1e-313b-4b8a-a4e4-f1eb684f12a1",
   "metadata": {
    "tags": []
   },
   "outputs": [],
   "source": [
    "# you can perform calculations on arrays more easily than with tables\n",
    "np.average(skyscrapers.column('height'))"
   ]
  },
  {
   "cell_type": "markdown",
   "id": "1a643029-97e5-4dee-a4af-07aa19aa9dff",
   "metadata": {},
   "source": [
    "## Sorting"
   ]
  },
  {
   "cell_type": "code",
   "execution_count": null,
   "id": "5a5a3adf-fe64-4e19-9b50-072d9743bef9",
   "metadata": {
    "tags": []
   },
   "outputs": [],
   "source": [
    "skyscrapers.sort('height', descending=True)"
   ]
  },
  {
   "cell_type": "markdown",
   "id": "a872a281-5ed4-414d-ac94-40a3a8380a31",
   "metadata": {
    "tags": []
   },
   "source": [
    "### What's the tallest skyscraper?"
   ]
  },
  {
   "cell_type": "code",
   "execution_count": null,
   "id": "522dcae7-5902-47f6-bc20-c90992142cb2",
   "metadata": {},
   "outputs": [],
   "source": [
    "# get the value of the tallest building\n",
    "# 'take' takes the first value (which is often the value of interest after you apply a sort)\n",
    "# remember - when you index into an array, you use .item(index)"
   ]
  },
  {
   "cell_type": "code",
   "execution_count": null,
   "id": "e0889a6b-2f84-4de1-9dcc-d174885af2f2",
   "metadata": {
    "tags": []
   },
   "outputs": [],
   "source": [
    "# step 1: sort"
   ]
  },
  {
   "cell_type": "code",
   "execution_count": null,
   "id": "e12a1183-05d8-4a4e-b41b-2db600c75569",
   "metadata": {
    "tags": []
   },
   "outputs": [],
   "source": [
    "skyscrapers.sort('height', descending=True)"
   ]
  },
  {
   "cell_type": "code",
   "execution_count": null,
   "id": "468ba4af-83e2-4501-9db6-1bd08851ec86",
   "metadata": {
    "tags": []
   },
   "outputs": [],
   "source": [
    "# step 2: get a single column (array)"
   ]
  },
  {
   "cell_type": "code",
   "execution_count": null,
   "id": "ded62185-fc22-4f04-a17e-1f8a03a61aa5",
   "metadata": {
    "tags": []
   },
   "outputs": [],
   "source": [
    "skyscrapers.sort('height', descending=True).column('name')"
   ]
  },
  {
   "cell_type": "code",
   "execution_count": null,
   "id": "2a5772fe-a6f8-4aad-9cae-536758d21aa8",
   "metadata": {},
   "outputs": [],
   "source": [
    "# step 3: grab the first item in the array with .item(0)"
   ]
  },
  {
   "cell_type": "code",
   "execution_count": null,
   "id": "9409139e-9d62-4bee-a91c-e5b6ea133662",
   "metadata": {
    "tags": []
   },
   "outputs": [],
   "source": [
    "skyscrapers.sort('height', descending=True).column('name').item(0)"
   ]
  },
  {
   "cell_type": "markdown",
   "id": "a40f6d23-1a2c-4087-b1db-1a54930f13a3",
   "metadata": {
    "tags": []
   },
   "source": [
    "## Filtering"
   ]
  },
  {
   "cell_type": "code",
   "execution_count": null,
   "id": "fbaad5d6-1141-4808-98f2-5e152d3dea6a",
   "metadata": {
    "tags": []
   },
   "outputs": [],
   "source": [
    "skyscrapers.where('material', are.equal_to('steel'))"
   ]
  },
  {
   "cell_type": "code",
   "execution_count": null,
   "id": "5a1e853f-f100-468e-a596-4e7915c34d78",
   "metadata": {
    "tags": []
   },
   "outputs": [],
   "source": [
    "# you can find all filtering predicates here: https://www.data8.org/sp22/python-reference.html \n",
    "# (under Table.where Predicates)"
   ]
  },
  {
   "cell_type": "markdown",
   "id": "31d39215-1984-4530-a746-54891abf20ce",
   "metadata": {
    "tags": []
   },
   "source": [
    "## Skyscraper Exercise (filter, sort, array operations)"
   ]
  },
  {
   "cell_type": "markdown",
   "id": "faf7467c-1984-445c-9e88-06bde91546ee",
   "metadata": {},
   "source": [
    "1. What's the tallest building in Los Angeles?\n",
    "2. What's city has the tallest steel building?\n",
    "3. Which type of construction (concrete, mixed/composite, or steel) has the highest average skyscraper height?\n",
    "4. (If you have extra time - what's the tallest building completed in the year you were born?)"
   ]
  },
  {
   "cell_type": "code",
   "execution_count": null,
   "id": "c9d5f8ca-f7f5-45ff-b0f5-0c8802149a4e",
   "metadata": {},
   "outputs": [],
   "source": [
    "# What's the tallest building in Los Angeles?"
   ]
  },
  {
   "cell_type": "code",
   "execution_count": null,
   "id": "10f50b70-b95e-4a4c-a821-878083b6b286",
   "metadata": {},
   "outputs": [],
   "source": []
  },
  {
   "cell_type": "code",
   "execution_count": null,
   "id": "94186282-b929-4f9a-93d1-d3e0c6f496b4",
   "metadata": {},
   "outputs": [],
   "source": []
  },
  {
   "cell_type": "code",
   "execution_count": null,
   "id": "b7ac0227-31c8-4ac6-b82b-f4e1cc1a7564",
   "metadata": {},
   "outputs": [],
   "source": []
  },
  {
   "cell_type": "code",
   "execution_count": null,
   "id": "b0c09bd0-742f-48a5-b428-d4cf41bf1eee",
   "metadata": {},
   "outputs": [],
   "source": [
    "# What's city has the tallest steel building?"
   ]
  },
  {
   "cell_type": "code",
   "execution_count": null,
   "id": "bced14b3-0cef-4565-aa4b-8150d5f82fc3",
   "metadata": {},
   "outputs": [],
   "source": []
  },
  {
   "cell_type": "code",
   "execution_count": null,
   "id": "5ae9449e-f5a7-422c-b150-1516697e7e14",
   "metadata": {},
   "outputs": [],
   "source": []
  },
  {
   "cell_type": "code",
   "execution_count": null,
   "id": "98deea5a-a975-4b39-95bc-e345984890a8",
   "metadata": {},
   "outputs": [],
   "source": [
    "# Which type of construction (concrete, mixed/composite, or steel) has the highest average skyscraper height?"
   ]
  },
  {
   "cell_type": "code",
   "execution_count": null,
   "id": "39c45563-1ede-403c-8f1e-f84e0f3f9336",
   "metadata": {},
   "outputs": [],
   "source": []
  },
  {
   "cell_type": "code",
   "execution_count": null,
   "id": "b7107495-4013-4d30-b255-05ebdf1d9ea7",
   "metadata": {},
   "outputs": [],
   "source": []
  },
  {
   "cell_type": "code",
   "execution_count": null,
   "id": "e2c4a1a9-22f0-4738-8ac6-13e77c539aea",
   "metadata": {},
   "outputs": [],
   "source": []
  },
  {
   "cell_type": "code",
   "execution_count": null,
   "id": "b7480031-0a4e-4ea2-852b-11452420c176",
   "metadata": {},
   "outputs": [],
   "source": [
    "# (If extra time) - what was the tallest skyscraper completed in the year you were born?"
   ]
  }
 ],
 "metadata": {
  "kernelspec": {
   "display_name": "Python 3 (ipykernel)",
   "language": "python",
   "name": "python3"
  },
  "language_info": {
   "codemirror_mode": {
    "name": "ipython",
    "version": 3
   },
   "file_extension": ".py",
   "mimetype": "text/x-python",
   "name": "python",
   "nbconvert_exporter": "python",
   "pygments_lexer": "ipython3",
   "version": "3.12.10"
  }
 },
 "nbformat": 4,
 "nbformat_minor": 5
}
