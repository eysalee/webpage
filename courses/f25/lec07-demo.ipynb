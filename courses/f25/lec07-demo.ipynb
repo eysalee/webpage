{
 "cells": [
  {
   "cell_type": "code",
   "execution_count": 1,
   "id": "1cc234af-4d21-49ec-abec-c90ff9d4dbd1",
   "metadata": {
    "tags": []
   },
   "outputs": [],
   "source": [
    "from datascience import *\n",
    "import numpy as np\n",
    "\n",
    "%matplotlib inline\n",
    "import matplotlib.pyplot as plots\n",
    "plots.style.use('fivethirtyeight')"
   ]
  },
  {
   "cell_type": "markdown",
   "id": "b5d57e65-022c-4ce9-85ca-fba04bdbbf6b",
   "metadata": {
    "tags": []
   },
   "source": [
    "## Histograms"
   ]
  },
  {
   "cell_type": "code",
   "execution_count": null,
   "id": "295c34cc-d69b-43d5-abf4-a41e81f24a67",
   "metadata": {
    "tags": []
   },
   "outputs": [],
   "source": [
    "netflix = Table.read_table('https://raw.githubusercontent.com/eysalee/webpage/refs/heads/main/courses/f25/netflix.csv')"
   ]
  },
  {
   "cell_type": "code",
   "execution_count": null,
   "id": "92f8f5f8-6329-48a9-8c52-0be7301bd403",
   "metadata": {
    "tags": []
   },
   "outputs": [],
   "source": [
    "my_bins = np.arange(0,10.5, 0.5)\n",
    "netflix.where('type', 'SHOW').hist('imdb_score', bins = my_bins)"
   ]
  },
  {
   "cell_type": "code",
   "execution_count": 2,
   "id": "7311a8c0-90ea-4cce-8519-0a496d1a093b",
   "metadata": {
    "tags": []
   },
   "outputs": [],
   "source": [
    "# Top 200 highest grossing movies up to 2017\n",
    "top_movies = Table.read_table('https://raw.githubusercontent.com/eysalee/webpage/refs/heads/main/courses/f25/top_movies_2017.csv')"
   ]
  },
  {
   "cell_type": "code",
   "execution_count": 3,
   "id": "42c1a9e2-20e9-48a1-86d1-5844aee0d8ae",
   "metadata": {
    "tags": []
   },
   "outputs": [],
   "source": [
    "ages = 2025 - top_movies.column('Year')\n",
    "top_movies = top_movies.with_column('Age', ages)"
   ]
  },
  {
   "cell_type": "code",
   "execution_count": 4,
   "id": "6e421be0-9461-42d0-9ee2-dcab4f30af21",
   "metadata": {
    "tags": []
   },
   "outputs": [
    {
     "data": {
      "text/html": [
       "<table border=\"1\" class=\"dataframe\">\n",
       "    <thead>\n",
       "        <tr>\n",
       "            <th>Title</th> <th>Studio</th> <th>Gross</th> <th>Gross (Adjusted)</th> <th>Year</th> <th>Age</th>\n",
       "        </tr>\n",
       "    </thead>\n",
       "    <tbody>\n",
       "        <tr>\n",
       "            <td>Gone with the Wind              </td> <td>MGM            </td> <td>198676459</td> <td>1796176700      </td> <td>1939</td> <td>86  </td>\n",
       "        </tr>\n",
       "        <tr>\n",
       "            <td>Star Wars                       </td> <td>Fox            </td> <td>460998007</td> <td>1583483200      </td> <td>1977</td> <td>48  </td>\n",
       "        </tr>\n",
       "        <tr>\n",
       "            <td>The Sound of Music              </td> <td>Fox            </td> <td>158671368</td> <td>1266072700      </td> <td>1965</td> <td>60  </td>\n",
       "        </tr>\n",
       "        <tr>\n",
       "            <td>E.T.: The Extra-Terrestrial     </td> <td>Universal      </td> <td>435110554</td> <td>1261085000      </td> <td>1982</td> <td>43  </td>\n",
       "        </tr>\n",
       "        <tr>\n",
       "            <td>Titanic                         </td> <td>Paramount      </td> <td>658672302</td> <td>1204368000      </td> <td>1997</td> <td>28  </td>\n",
       "        </tr>\n",
       "        <tr>\n",
       "            <td>The Ten Commandments            </td> <td>Paramount      </td> <td>65500000 </td> <td>1164590000      </td> <td>1956</td> <td>69  </td>\n",
       "        </tr>\n",
       "        <tr>\n",
       "            <td>Jaws                            </td> <td>Universal      </td> <td>260000000</td> <td>1138620700      </td> <td>1975</td> <td>50  </td>\n",
       "        </tr>\n",
       "        <tr>\n",
       "            <td>Doctor Zhivago                  </td> <td>MGM            </td> <td>111721910</td> <td>1103564200      </td> <td>1965</td> <td>60  </td>\n",
       "        </tr>\n",
       "        <tr>\n",
       "            <td>The Exorcist                    </td> <td>Warner Brothers</td> <td>232906145</td> <td>983226600       </td> <td>1973</td> <td>52  </td>\n",
       "        </tr>\n",
       "        <tr>\n",
       "            <td>Snow White and the Seven Dwarves</td> <td>Disney         </td> <td>184925486</td> <td>969010000       </td> <td>1937</td> <td>88  </td>\n",
       "        </tr>\n",
       "    </tbody>\n",
       "</table>\n",
       "<p>... (190 rows omitted)</p>"
      ],
      "text/plain": [
       "Title                            | Studio          | Gross     | Gross (Adjusted) | Year | Age\n",
       "Gone with the Wind               | MGM             | 198676459 | 1796176700       | 1939 | 86\n",
       "Star Wars                        | Fox             | 460998007 | 1583483200       | 1977 | 48\n",
       "The Sound of Music               | Fox             | 158671368 | 1266072700       | 1965 | 60\n",
       "E.T.: The Extra-Terrestrial      | Universal       | 435110554 | 1261085000       | 1982 | 43\n",
       "Titanic                          | Paramount       | 658672302 | 1204368000       | 1997 | 28\n",
       "The Ten Commandments             | Paramount       | 65500000  | 1164590000       | 1956 | 69\n",
       "Jaws                             | Universal       | 260000000 | 1138620700       | 1975 | 50\n",
       "Doctor Zhivago                   | MGM             | 111721910 | 1103564200       | 1965 | 60\n",
       "The Exorcist                     | Warner Brothers | 232906145 | 983226600        | 1973 | 52\n",
       "Snow White and the Seven Dwarves | Disney          | 184925486 | 969010000        | 1937 | 88\n",
       "... (190 rows omitted)"
      ]
     },
     "execution_count": 4,
     "metadata": {},
     "output_type": "execute_result"
    }
   ],
   "source": [
    "top_movies"
   ]
  },
  {
   "cell_type": "code",
   "execution_count": null,
   "id": "3b8107e2-fd32-4734-9e52-63179919d141",
   "metadata": {
    "tags": []
   },
   "outputs": [],
   "source": [
    "# Not specifying bins will give default values\n",
    "top_movies.hist('Age', unit='Year')"
   ]
  },
  {
   "cell_type": "code",
   "execution_count": null,
   "id": "55b5006a-723c-4893-b751-cef24e289860",
   "metadata": {
    "tags": []
   },
   "outputs": [],
   "source": [
    "# We can specify equally sized bins\n",
    "equal_bins = np.arange(0, 111, 10)\n",
    "top_movies.hist('Age', bins=equal_bins, unit='Year')"
   ]
  },
  {
   "cell_type": "markdown",
   "id": "6e7c8894-dbd0-45b0-8214-be54a0f0807f",
   "metadata": {},
   "source": [
    "With the new bins, you can see an increase from 0-10 to 10-20.\n",
    "\n",
    "You can also see there are no top movies from 90-100"
   ]
  },
  {
   "cell_type": "code",
   "execution_count": null,
   "id": "61442276-a498-4aae-aec3-91a1c443cd44",
   "metadata": {
    "tags": []
   },
   "outputs": [],
   "source": [
    "# Let's do unequal bins\n",
    "my_bins = make_array(0, 5, 10, 15, 25, 40, 65, 100, 105)\n",
    "top_movies.hist('Age',bins=my_bins,unit='Year')"
   ]
  },
  {
   "cell_type": "markdown",
   "id": "a3b2399d-09b2-48a6-8e7c-7337376c55c6",
   "metadata": {
    "tags": []
   },
   "source": [
    "### Question: What percent of the top movies are from 40-65 years ago?"
   ]
  },
  {
   "cell_type": "code",
   "execution_count": null,
   "id": "ff786057-b653-420d-bdb1-8044022e0b03",
   "metadata": {
    "tags": []
   },
   "outputs": [],
   "source": []
  },
  {
   "cell_type": "code",
   "execution_count": null,
   "id": "017bb21f-17f3-4582-8802-0de2c1429f43",
   "metadata": {
    "tags": []
   },
   "outputs": [],
   "source": []
  },
  {
   "cell_type": "markdown",
   "id": "377f4f59-8689-4784-b7f8-27204787edd7",
   "metadata": {},
   "source": [
    "### Question: What is the height of the 40-65 bin?"
   ]
  },
  {
   "cell_type": "code",
   "execution_count": null,
   "id": "bc5a3e58-6cc7-4fb7-8f11-0b13e55cc3d5",
   "metadata": {
    "tags": []
   },
   "outputs": [],
   "source": []
  },
  {
   "cell_type": "code",
   "execution_count": null,
   "id": "36fae058-6993-4491-8fae-1de0babd86c3",
   "metadata": {
    "tags": []
   },
   "outputs": [],
   "source": [
    "# Step 1: Calculate % of movies in the [40, 65) bin\n"
   ]
  },
  {
   "cell_type": "code",
   "execution_count": null,
   "id": "e7960cd7-5683-45f7-b669-5d6e7cc73873",
   "metadata": {
    "tags": []
   },
   "outputs": [],
   "source": [
    "# Step 2: Calculate the width of the 40-65 bin\n"
   ]
  },
  {
   "cell_type": "code",
   "execution_count": null,
   "id": "51a6e360-7761-4655-9890-23c810d8e0bc",
   "metadata": {
    "tags": []
   },
   "outputs": [],
   "source": [
    "# Step 3: Area of rectangle = height * width\n",
    "#         --> height = percent / width\n"
   ]
  },
  {
   "cell_type": "markdown",
   "id": "a988602f-df3a-419e-8a48-320cb73e6ae0",
   "metadata": {},
   "source": [
    "This height represents the percent per year (the % of top movies that came out within this age range)"
   ]
  },
  {
   "cell_type": "markdown",
   "id": "60ae028a-ff4e-41cb-bc59-ef038f251ff2",
   "metadata": {
    "tags": []
   },
   "source": [
    "## Weather Data Demo"
   ]
  },
  {
   "cell_type": "markdown",
   "id": "ea0c266b-07b1-4c52-97f4-1d08bfea87b3",
   "metadata": {},
   "source": [
    "Let's load some weather data."
   ]
  },
  {
   "cell_type": "markdown",
   "id": "fffbd895-9e6f-4956-b531-a62350081352",
   "metadata": {},
   "source": [
    "There's a lot of extra data in here, so let's go ahead and remove it. We're going to be interested in whether or not there was rain or snow and not specifically the amount, so let's also add in an extra column that says if there were rainy or snowy days."
   ]
  },
  {
   "cell_type": "code",
   "execution_count": 6,
   "id": "6ffd316d-925f-4577-ae8e-40afae4f8a75",
   "metadata": {
    "tags": []
   },
   "outputs": [
    {
     "data": {
      "text/html": [
       "<table border=\"1\" class=\"dataframe\">\n",
       "    <thead>\n",
       "        <tr>\n",
       "            <th>date</th> <th>tmax</th> <th>tmin</th> <th>tavg</th> <th>condition</th>\n",
       "        </tr>\n",
       "    </thead>\n",
       "    <tbody>\n",
       "        <tr>\n",
       "            <td>1/1/19 </td> <td>60  </td> <td>40  </td> <td>50  </td> <td>rainy    </td>\n",
       "        </tr>\n",
       "        <tr>\n",
       "            <td>2/1/19 </td> <td>41  </td> <td>35  </td> <td>38  </td> <td>         </td>\n",
       "        </tr>\n",
       "        <tr>\n",
       "            <td>3/1/19 </td> <td>45  </td> <td>39  </td> <td>42  </td> <td>         </td>\n",
       "        </tr>\n",
       "        <tr>\n",
       "            <td>4/1/19 </td> <td>47  </td> <td>37  </td> <td>42  </td> <td>         </td>\n",
       "        </tr>\n",
       "        <tr>\n",
       "            <td>5/1/19 </td> <td>47  </td> <td>42  </td> <td>44.5</td> <td>rainy    </td>\n",
       "        </tr>\n",
       "        <tr>\n",
       "            <td>6/1/19 </td> <td>49  </td> <td>32  </td> <td>40.5</td> <td>         </td>\n",
       "        </tr>\n",
       "        <tr>\n",
       "            <td>7/1/19 </td> <td>35  </td> <td>26  </td> <td>30.5</td> <td>         </td>\n",
       "        </tr>\n",
       "        <tr>\n",
       "            <td>8/1/19 </td> <td>47  </td> <td>35  </td> <td>41  </td> <td>rainy    </td>\n",
       "        </tr>\n",
       "        <tr>\n",
       "            <td>9/1/19 </td> <td>46  </td> <td>35  </td> <td>40.5</td> <td>rainy    </td>\n",
       "        </tr>\n",
       "        <tr>\n",
       "            <td>10/1/19</td> <td>35  </td> <td>30  </td> <td>32.5</td> <td>         </td>\n",
       "        </tr>\n",
       "    </tbody>\n",
       "</table>\n",
       "<p>... (355 rows omitted)</p>"
      ],
      "text/plain": [
       "date    | tmax | tmin | tavg | condition\n",
       "1/1/19  | 60   | 40   | 50   | rainy\n",
       "2/1/19  | 41   | 35   | 38   |\n",
       "3/1/19  | 45   | 39   | 42   |\n",
       "4/1/19  | 47   | 37   | 42   |\n",
       "5/1/19  | 47   | 42   | 44.5 | rainy\n",
       "6/1/19  | 49   | 32   | 40.5 |\n",
       "7/1/19  | 35   | 26   | 30.5 |\n",
       "8/1/19  | 47   | 35   | 41   | rainy\n",
       "9/1/19  | 46   | 35   | 40.5 | rainy\n",
       "10/1/19 | 35   | 30   | 32.5 |\n",
       "... (355 rows omitted)"
      ]
     },
     "execution_count": 6,
     "metadata": {},
     "output_type": "execute_result"
    }
   ],
   "source": [
    "weather = Table.read_table(\"https://raw.githubusercontent.com/eysalee/webpage/refs/heads/main/courses/f25/nyc_temperature_2019.csv\")\n",
    "\n",
    "# Cleaning the data, don't worry about this for now\n",
    "# We'll go into this later\n",
    "def add_condition(precipitation, new_snow):\n",
    "    if new_snow > 0:\n",
    "        return 'snowy'\n",
    "    elif precipitation > 0:\n",
    "        return 'rainy'\n",
    "    else:\n",
    "        return ''\n",
    "    \n",
    "# Our function takes in two arguments, \n",
    "# so we specify the two columns that the data should come from\n",
    "conditions_array = weather.apply(add_condition, 'precipitation', 'new_snow')\n",
    "\n",
    "weather = weather.with_columns('condition', conditions_array)\n",
    "\n",
    "# Let's remove some columns we don't care about\n",
    "weather = weather.drop('departure', 'HDD', 'CDD', 'precipitation', 'new_snow', 'snow_depth')\n",
    "weather"
   ]
  },
  {
   "cell_type": "markdown",
   "id": "005f5720-cc40-4f0b-a597-f2afb1287091",
   "metadata": {},
   "source": [
    "### Question: Do days with hotter highs also tend to have hotter lows?"
   ]
  },
  {
   "cell_type": "code",
   "execution_count": null,
   "id": "ab9c01fb-f900-4954-9abf-969c45d25ace",
   "metadata": {
    "tags": []
   },
   "outputs": [],
   "source": []
  },
  {
   "cell_type": "markdown",
   "id": "57a71ed3-d723-4452-8026-8c6a109e1161",
   "metadata": {},
   "source": [
    "### Question: How do the number of rainy days compare with the number of snowy days?"
   ]
  },
  {
   "cell_type": "code",
   "execution_count": null,
   "id": "28fe9ed0-72ca-44f0-b3c1-cfd29f9bd0a4",
   "metadata": {
    "tags": []
   },
   "outputs": [],
   "source": []
  },
  {
   "cell_type": "code",
   "execution_count": null,
   "id": "650fc800-a72e-4321-86e6-73e1ff2f6c30",
   "metadata": {
    "tags": []
   },
   "outputs": [],
   "source": []
  },
  {
   "cell_type": "markdown",
   "id": "8c6754ec-7c95-438c-9e7e-22c172b95524",
   "metadata": {},
   "source": [
    "### Question: How do the average tavg compare between rainy days, snowy days, and days without any precipitation?"
   ]
  },
  {
   "cell_type": "code",
   "execution_count": null,
   "id": "1a729864-cbdb-44a2-bb6c-98ce4ef8b1d7",
   "metadata": {
    "tags": []
   },
   "outputs": [],
   "source": []
  },
  {
   "cell_type": "code",
   "execution_count": null,
   "id": "139a7d16-32a3-4edb-8607-4a33cf22d9f0",
   "metadata": {
    "tags": []
   },
   "outputs": [],
   "source": []
  },
  {
   "cell_type": "markdown",
   "id": "b02841ec-54bc-4f77-a781-ac64e8ab2b9e",
   "metadata": {},
   "source": [
    "### Question: What percent of days have a high of at least 75 degrees?"
   ]
  },
  {
   "cell_type": "code",
   "execution_count": null,
   "id": "925eab2d-0f27-4041-90a8-5003db898c2e",
   "metadata": {
    "tags": []
   },
   "outputs": [],
   "source": []
  },
  {
   "cell_type": "code",
   "execution_count": null,
   "id": "472c15fd-5cfd-4f16-8e76-077f5628601c",
   "metadata": {
    "tags": []
   },
   "outputs": [],
   "source": []
  },
  {
   "cell_type": "code",
   "execution_count": null,
   "id": "1d287bb9-9566-4d87-8df4-8b2b04c90a65",
   "metadata": {
    "tags": []
   },
   "outputs": [],
   "source": []
  },
  {
   "cell_type": "code",
   "execution_count": null,
   "id": "9bfe0c38-46b9-4b21-9084-765e46d414e0",
   "metadata": {
    "tags": []
   },
   "outputs": [],
   "source": []
  },
  {
   "cell_type": "code",
   "execution_count": null,
   "id": "c1991fa2-29a6-48d2-a79e-b36eed557724",
   "metadata": {
    "tags": []
   },
   "outputs": [],
   "source": []
  },
  {
   "cell_type": "markdown",
   "id": "69705ef2-cc99-41d1-8c05-686e8f9de6ee",
   "metadata": {
    "tags": []
   },
   "source": [
    "## Census Demo"
   ]
  },
  {
   "cell_type": "markdown",
   "id": "a9c11007-0b66-4fb0-a6f9-cb9b76bc4539",
   "metadata": {},
   "source": [
    "We'll be looking at US age and sex census data from 2020 to 2024 (https://www2.census.gov/programs-surveys/popest/datasets/2020-2024/national/asrh/nc-est2024-agesex-res.csv).\n",
    "\n",
    "Some notes about the formatting of this data:\n",
    "- \"Sex\" are represented by numbers 0, 1, 2\n",
    "    * 0 refers to \"Male and Female\"\n",
    "    * 1 is \"Male\"\n",
    "    * 2 is \"Female\"\n",
    "- The ESTIMATESBASE column refers to the estimated population in April 1, 2020\n",
    "- POPESTIMATE columns refer to the estimated populations as of July 1 of each year\n",
    "- Ages go up to 100\n",
    "- Age 999 row represents the totals of the column (by \"Sex\")"
   ]
  },
  {
   "cell_type": "code",
   "execution_count": 5,
   "id": "fc4958c8-0930-4a22-aa3e-bd179f0cc04c",
   "metadata": {
    "tags": []
   },
   "outputs": [
    {
     "data": {
      "text/html": [
       "<table border=\"1\" class=\"dataframe\">\n",
       "    <thead>\n",
       "        <tr>\n",
       "            <th>SEX</th> <th>AGE</th> <th>ESTIMATESBASE2020</th> <th>POPESTIMATE2020</th> <th>POPESTIMATE2021</th> <th>POPESTIMATE2022</th> <th>POPESTIMATE2023</th> <th>POPESTIMATE2024</th>\n",
       "        </tr>\n",
       "    </thead>\n",
       "    <tbody>\n",
       "        <tr>\n",
       "            <td>0   </td> <td>0   </td> <td>3735085          </td> <td>3703341        </td> <td>3572166        </td> <td>3680587        </td> <td>3653650        </td> <td>3615598        </td>\n",
       "        </tr>\n",
       "        <tr>\n",
       "            <td>0   </td> <td>1   </td> <td>3777552          </td> <td>3764698        </td> <td>3708865        </td> <td>3602662        </td> <td>3720079        </td> <td>3701824        </td>\n",
       "        </tr>\n",
       "        <tr>\n",
       "            <td>0   </td> <td>2   </td> <td>3873736          </td> <td>3854287        </td> <td>3771032        </td> <td>3738864        </td> <td>3642354        </td> <td>3768012        </td>\n",
       "        </tr>\n",
       "        <tr>\n",
       "            <td>0   </td> <td>3   </td> <td>3966696          </td> <td>3933667        </td> <td>3860489        </td> <td>3800263        </td> <td>3778530        </td> <td>3690129        </td>\n",
       "        </tr>\n",
       "        <tr>\n",
       "            <td>0   </td> <td>4   </td> <td>4049711          </td> <td>4038296        </td> <td>3939654        </td> <td>3888578        </td> <td>3837784        </td> <td>3823751        </td>\n",
       "        </tr>\n",
       "        <tr>\n",
       "            <td>0   </td> <td>5   </td> <td>4078129          </td> <td>4074896        </td> <td>4044039        </td> <td>3966181        </td> <td>3924020        </td> <td>3880536        </td>\n",
       "        </tr>\n",
       "        <tr>\n",
       "            <td>0   </td> <td>6   </td> <td>4048712          </td> <td>4063071        </td> <td>4080393        </td> <td>4069107        </td> <td>4000239        </td> <td>3965148        </td>\n",
       "        </tr>\n",
       "        <tr>\n",
       "            <td>0   </td> <td>7   </td> <td>4054232          </td> <td>4050053        </td> <td>4068326        </td> <td>4104251        </td> <td>4101661        </td> <td>4039527        </td>\n",
       "        </tr>\n",
       "        <tr>\n",
       "            <td>0   </td> <td>8   </td> <td>4073479          </td> <td>4057336        </td> <td>4055184        </td> <td>4091521        </td> <td>4135609        </td> <td>4139497        </td>\n",
       "        </tr>\n",
       "        <tr>\n",
       "            <td>0   </td> <td>9   </td> <td>4114609          </td> <td>4102425        </td> <td>4062356        </td> <td>4077757        </td> <td>4122524        </td> <td>4172964        </td>\n",
       "        </tr>\n",
       "    </tbody>\n",
       "</table>\n",
       "<p>... (296 rows omitted)</p>"
      ],
      "text/plain": [
       "SEX  | AGE  | ESTIMATESBASE2020 | POPESTIMATE2020 | POPESTIMATE2021 | POPESTIMATE2022 | POPESTIMATE2023 | POPESTIMATE2024\n",
       "0    | 0    | 3735085           | 3703341         | 3572166         | 3680587         | 3653650         | 3615598\n",
       "0    | 1    | 3777552           | 3764698         | 3708865         | 3602662         | 3720079         | 3701824\n",
       "0    | 2    | 3873736           | 3854287         | 3771032         | 3738864         | 3642354         | 3768012\n",
       "0    | 3    | 3966696           | 3933667         | 3860489         | 3800263         | 3778530         | 3690129\n",
       "0    | 4    | 4049711           | 4038296         | 3939654         | 3888578         | 3837784         | 3823751\n",
       "0    | 5    | 4078129           | 4074896         | 4044039         | 3966181         | 3924020         | 3880536\n",
       "0    | 6    | 4048712           | 4063071         | 4080393         | 4069107         | 4000239         | 3965148\n",
       "0    | 7    | 4054232           | 4050053         | 4068326         | 4104251         | 4101661         | 4039527\n",
       "0    | 8    | 4073479           | 4057336         | 4055184         | 4091521         | 4135609         | 4139497\n",
       "0    | 9    | 4114609           | 4102425         | 4062356         | 4077757         | 4122524         | 4172964\n",
       "... (296 rows omitted)"
      ]
     },
     "execution_count": 5,
     "metadata": {},
     "output_type": "execute_result"
    }
   ],
   "source": [
    "census_url = \"https://raw.githubusercontent.com/eysalee/webpage/refs/heads/main/courses/f25/nc-est2024-agesex-res.csv\"\n",
    "# census_filename = 'nc-est2024-agesex-res.csv'\n",
    "census = Table.read_table(census_url)\n",
    "census"
   ]
  },
  {
   "cell_type": "markdown",
   "id": "b712083c-19ae-46dd-b054-f4d12efee32d",
   "metadata": {},
   "source": [
    "### Table Formatting"
   ]
  },
  {
   "cell_type": "code",
   "execution_count": null,
   "id": "74f8ac55-ca85-4b7e-b235-c3d44e62a669",
   "metadata": {
    "tags": []
   },
   "outputs": [],
   "source": [
    "# Let's start by getting rid of the ESTIMATESBASE2020 column\n"
   ]
  },
  {
   "cell_type": "code",
   "execution_count": null,
   "id": "208b90f3-f04a-4203-a31b-3ff84a89634a",
   "metadata": {
    "tags": []
   },
   "outputs": [],
   "source": [
    "# Let's use .relabel to rename the columns\n"
   ]
  },
  {
   "cell_type": "markdown",
   "id": "ab9e1683-4d7d-4982-a407-120cf81ad468",
   "metadata": {},
   "source": [
    "We can use the `.set_format` function to format how numbers are displayed. This is similar to how in a spreadsheet you may set data to be displayed as a number, percentage, date, or currency.\n",
    "\n",
    "We'll keep it simple with `NumberFormatter` and `PercentFormatter` and not touch other types of formats for now."
   ]
  },
  {
   "cell_type": "code",
   "execution_count": null,
   "id": "9e2830f9-fac0-443a-9393-9f81d0e0be6d",
   "metadata": {
    "tags": []
   },
   "outputs": [],
   "source": [
    "census.set_format('2020', NumberFormatter)"
   ]
  },
  {
   "cell_type": "code",
   "execution_count": null,
   "id": "fd000f55-6c42-4bfe-a406-0b62fff4925e",
   "metadata": {
    "tags": []
   },
   "outputs": [],
   "source": [
    "census.set_format('2021', NumberFormatter)"
   ]
  },
  {
   "cell_type": "code",
   "execution_count": null,
   "id": "b08ac17c-e3dd-4959-a90c-b0045152f49f",
   "metadata": {
    "tags": []
   },
   "outputs": [],
   "source": [
    "# Notice that this does not change the underlying data\n",
    "# We've only modified how it's formatted in the Table\n",
    "census.column('2020').item(0)"
   ]
  },
  {
   "cell_type": "code",
   "execution_count": null,
   "id": "411d0399-898f-406b-8744-3e4d64c8c91c",
   "metadata": {
    "tags": []
   },
   "outputs": [],
   "source": [
    "# We can also give it multiple columns to format\n",
    "census.set_format(['2022', '2023', '2024'], NumberFormatter)"
   ]
  },
  {
   "cell_type": "markdown",
   "id": "234d4020-5fa0-41d6-a3f6-a73f2ef66494",
   "metadata": {},
   "source": [
    "### Column Arithmetic"
   ]
  },
  {
   "cell_type": "markdown",
   "id": "2242cb26-0dfb-4349-9a61-c2a561feeb22",
   "metadata": {},
   "source": [
    "Let's compute the change in total population between 2020 and 2024. \n",
    "\n",
    "Then let's take the difference between the values in the 2024 column (new pop) and subtract from the values in the 2020 column (initial pop)."
   ]
  },
  {
   "cell_type": "code",
   "execution_count": null,
   "id": "23f79375-e7d7-4e80-a84d-64474ff0889a",
   "metadata": {
    "tags": []
   },
   "outputs": [],
   "source": []
  },
  {
   "cell_type": "code",
   "execution_count": null,
   "id": "720f67e3-6315-42d8-8744-e2b497627e1c",
   "metadata": {
    "tags": []
   },
   "outputs": [],
   "source": []
  },
  {
   "cell_type": "markdown",
   "id": "f0f51243-ca47-40ea-9c0c-e7418ad61525",
   "metadata": {},
   "source": [
    "Let's compute the percent change and add this as a new column titled `\"Percent Change\"`. We can format the data using `.set_format(\"Percent Change\", PercentFormatter)`."
   ]
  },
  {
   "cell_type": "code",
   "execution_count": null,
   "id": "f49ec802-a4be-4519-bdfd-f0f62a247ee5",
   "metadata": {
    "tags": []
   },
   "outputs": [],
   "source": []
  },
  {
   "cell_type": "code",
   "execution_count": null,
   "id": "dd097166-7263-460f-84c8-3c40693e8f54",
   "metadata": {
    "tags": []
   },
   "outputs": [],
   "source": []
  },
  {
   "cell_type": "markdown",
   "id": "9f21f343-809b-4917-9f6c-2e22f830a7f6",
   "metadata": {},
   "source": [
    "### Line Graphs"
   ]
  },
  {
   "cell_type": "markdown",
   "id": "4f0ba1e4-17b7-45d0-b024-167f1a1bfd6b",
   "metadata": {},
   "source": [
    "To start, let's graph the population by age in 2024"
   ]
  },
  {
   "cell_type": "code",
   "execution_count": null,
   "id": "1f6aad7c-c93f-449b-9d04-667fb5fab175",
   "metadata": {
    "tags": []
   },
   "outputs": [],
   "source": []
  },
  {
   "cell_type": "markdown",
   "id": "c37f5d8c-2cd6-4c1c-85ed-c420e90e1f20",
   "metadata": {},
   "source": [
    "What if we want to see the population for 2020 and 2024?"
   ]
  },
  {
   "cell_type": "code",
   "execution_count": null,
   "id": "99d4996e-6e40-431e-a3e3-344f10ac95fe",
   "metadata": {
    "tags": []
   },
   "outputs": [],
   "source": []
  }
 ],
 "metadata": {
  "kernelspec": {
   "display_name": "Python 3 (ipykernel)",
   "language": "python",
   "name": "python3"
  },
  "language_info": {
   "codemirror_mode": {
    "name": "ipython",
    "version": 3
   },
   "file_extension": ".py",
   "mimetype": "text/x-python",
   "name": "python",
   "nbconvert_exporter": "python",
   "pygments_lexer": "ipython3",
   "version": "3.12.10"
  }
 },
 "nbformat": 4,
 "nbformat_minor": 5
}
